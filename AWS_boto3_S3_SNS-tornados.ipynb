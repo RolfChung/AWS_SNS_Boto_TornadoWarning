{
 "cells": [
  {
   "cell_type": "markdown",
   "id": "bd130906-30cd-4eb0-890d-4676c5e013c0",
   "metadata": {
    "jp-MarkdownHeadingCollapsed": true,
    "tags": []
   },
   "source": [
    "# Summary\n",
    "### Data product:<br> setting up a Tornado warning system with AWS Simple Notification System (SNS) using Python Boto 3.\n",
    "\n",
    "\n",
    "<p>\n",
    "\n",
    "This project uses the Simple Notification Service (SNS) of AWS. Several basic functions like creating topics, subscriptions, publishing are explained. These functions are used to set up a Tornado warning system, which sends warning messages about incoming tornados to email endpoints. There are two inputs into the SNS: a contact list of subscribers and a tornado information table. Depending on the speed of the Tornado, different messages are sent out to the endpoints . It is possible to develop the functionality of the warning system further.\n",
    "</p>\n",
    "    \n",
    "<p>\n",
    "The project relies heavily on the Boto3 documentation.\n",
    "According to the doc:\n",
    "\n",
    "“You use the AWS SDK for Python (Boto3) to create, configure, and manage AWS services, such as Amazon Elastic Compute Cloud (Amazon EC2) and Amazon Simple Storage Service (Amazon S3). The SDK provides an object-oriented API as well as low-level access to AWS services.”\n",
    "\n",
    "This project creates an\n",
    "</p>\n",
    "\n",
    "\n",
    "<p> \n",
    "The project relies heavily on the  \n",
    "<a href = https://boto3.amazonaws.com/v1/documentation/api/latest/index.html target=_blank> \n",
    "Boto3 documentation.</a> <br> \n",
    "According to the doc: \n",
    "</p> \n",
    "\n",
    "<p> \n",
    "“You use the AWS SDK for Python (Boto3) to create, configure, and manage AWS services, such as Amazon Elastic Compute Cloud (Amazon EC2) and Amazon Simple Storage Service (Amazon S3). The SDK provides an object-oriented API as well as low-level access to AWS services.” \n",
    "</p> \n",
    "\n",
    "<p>This project creates an  \n",
    "\n",
    "### S3_helpers_pckg \n",
    "\n",
    "<p> \n",
    "The functionality is extended with a newly created helper package by me. This package is a work in progress. <br>\n",
    "The package stores a class with useful helper functions, mostly manipulating the dicts of responses.<br> \n",
    "The functions are mostly self defined, but other functions for example from Github and the doc are integrated.<br> \n",
    "In this case credits are given.<br> \n",
    "The pckg is a work in progress. \n",
    "</p> \n"
   ]
  },
  {
   "cell_type": "markdown",
   "id": "dc06b264-3c83-4b78-a5d4-67c5dec6ab09",
   "metadata": {},
   "source": [
    "# Import packages"
   ]
  },
  {
   "cell_type": "code",
   "execution_count": 1,
   "id": "eff92be7-1425-4c3b-84a9-1175464db281",
   "metadata": {},
   "outputs": [],
   "source": [
    "# Import packages\n",
    "\n",
    "import pandas as pd\n",
    "import pandasql\n",
    "from pandasql import sqldf\n",
    "\n",
    "import matplotlib.pyplot as plt\n",
    "%matplotlib inline\n",
    "import seaborn as sns\n",
    "\n",
    "import numpy as np\n",
    "import random\n",
    "import os as os\n",
    "import time\n",
    "import pprint\n",
    "import sys\n",
    "import re\n",
    "import json\n",
    "import glob \n",
    "import jinja2 # for styling data frames \n",
    "from IPython.display import display, HTML # Displaying HTML in Jupyter notebook\n",
    "\n",
    "from pathlib import *\n",
    "\n",
    "# security\n",
    "from dotenv import load_dotenv\n",
    "import logging\n",
    "\n",
    "# display html in code cells\n",
    "from IPython.display import HTML, display, Markdown, Latex, Image"
   ]
  },
  {
   "cell_type": "markdown",
   "id": "42c9e646-685e-4a73-8a4c-9375ad730b23",
   "metadata": {},
   "source": [
    "#### Import Boto"
   ]
  },
  {
   "cell_type": "code",
   "execution_count": 2,
   "id": "5fc6eea1-4354-4197-9849-3aa35f470c71",
   "metadata": {},
   "outputs": [],
   "source": [
    "# import boto3\n",
    "import boto3\n",
    "import botocore"
   ]
  },
  {
   "cell_type": "markdown",
   "id": "b0ce3e0a-094a-4023-ac9c-e468dbee7e15",
   "metadata": {},
   "source": [
    "### S3_helpers_pckg\n",
    "\n",
    "<p>\n",
    "stores a class with useful helper functions, mostly manipulating the dicts of responses.<br>\n",
    "The functions are mostly self defined, but other functions for example from Github and the doc are integrated.<br>\n",
    "In this case credits are given.<br>\n",
    "The pckg is a work in progress.\n",
    "</p>"
   ]
  },
  {
   "cell_type": "code",
   "execution_count": 3,
   "id": "b819dc4c-0988-4d64-99d9-c262a3c6281d",
   "metadata": {},
   "outputs": [],
   "source": [
    "import S3_helpers_pckg"
   ]
  },
  {
   "cell_type": "code",
   "execution_count": 4,
   "id": "79c094b2-527d-4586-9623-1ab9b23c38a2",
   "metadata": {},
   "outputs": [
    {
     "name": "stdout",
     "output_type": "stream",
     "text": [
      "<class 'module'>\n",
      "module 'S3_helpers_pckg' from\n"
     ]
    }
   ],
   "source": [
    "initpy_path = S3_helpers_pckg\n",
    "\n",
    "print(type(initpy_path))\n",
    "print(str(initpy_path)[1:30])\n"
   ]
  },
  {
   "cell_type": "code",
   "execution_count": 5,
   "id": "f145f3c1-fdbb-421f-8550-ca9979783642",
   "metadata": {},
   "outputs": [],
   "source": [
    "from S3_helpers_pckg import S3_helpers"
   ]
  },
  {
   "cell_type": "markdown",
   "id": "3e353ab7-14ca-48a3-91ab-d076cbcdce1b",
   "metadata": {},
   "source": [
    "### Checkout the directories"
   ]
  },
  {
   "cell_type": "code",
   "execution_count": 6,
   "id": "871b9d0e-0b11-4d52-a526-a1adfbc51177",
   "metadata": {},
   "outputs": [],
   "source": [
    "cwd = os.getcwd()\n",
    "# print(cwd)"
   ]
  },
  {
   "cell_type": "code",
   "execution_count": 7,
   "id": "023155b4-22b4-4e4b-ab56-935c68b8af91",
   "metadata": {},
   "outputs": [],
   "source": [
    "# os.chdir('G:\\Other computers\\Mein Laptop (1)\\data_camp_projects\\Turing_DataAnalysis')\n",
    "os.chdir('G:\\Other computers\\Mein Laptop (1)\\data_camp_projects\\AWS_boto3')"
   ]
  },
  {
   "cell_type": "code",
   "execution_count": 8,
   "id": "2a2052f3-1171-4f42-b837-9a64dce5cad1",
   "metadata": {},
   "outputs": [
    {
     "data": {
      "text/plain": [
       "['AWS_boto3_S3_FileManagement.ipynb',\n",
       " 'txt',\n",
       " '.ipynb_checkpoints',\n",
       " 'data',\n",
       " '.env',\n",
       " 'S3_helpers_pckg',\n",
       " 'upload_files',\n",
       " 'download_files',\n",
       " 'csv',\n",
       " 'html',\n",
       " '.git',\n",
       " 'README.md',\n",
       " '.gitignore']"
      ]
     },
     "execution_count": 8,
     "metadata": {},
     "output_type": "execute_result"
    }
   ],
   "source": [
    "### List directories\n",
    "\n",
    "directories_list = os.listdir()\n",
    "directories_list"
   ]
  },
  {
   "cell_type": "code",
   "execution_count": 9,
   "id": "4ec092e2-5a97-4cf0-a058-5ecf7b20daf4",
   "metadata": {},
   "outputs": [
    {
     "name": "stdout",
     "output_type": "stream",
     "text": [
      "['AWS_boto3_S3_FileManagement.ipynb', 'txt', 'data', 'S3_helpers_pckg', 'upload_files', 'download_files', 'csv', 'html', 'README.md']\n"
     ]
    }
   ],
   "source": [
    "file_list = glob.glob(\"*\")\n",
    "print(file_list)"
   ]
  },
  {
   "cell_type": "markdown",
   "id": "986853be-86de-4ee3-b670-a80259caea40",
   "metadata": {},
   "source": [
    "### Creating requirement files"
   ]
  },
  {
   "cell_type": "code",
   "execution_count": 10,
   "id": "fcd15e35-ea58-4a05-87ba-c348f0f858cf",
   "metadata": {},
   "outputs": [
    {
     "name": "stdout",
     "output_type": "stream",
     "text": [
      "Current version of Python is  3.10.4 | packaged by conda-forge | (main, Mar 30 2022, 08:38:02) [MSC v.1916 64 bit (AMD64)]\n",
      "1.4.3\n",
      "1.21.5\n",
      "0.11.2\n"
     ]
    }
   ],
   "source": [
    "print(\"Current version of Python is \", sys.version)\n",
    "print(pd.__version__)\n",
    "print(np.__version__)\n",
    "print(sns.__version__)"
   ]
  },
  {
   "cell_type": "markdown",
   "id": "d0f9967e-08ab-4fd4-bc80-89a099229ebf",
   "metadata": {},
   "source": [
    "#### Making directories"
   ]
  },
  {
   "cell_type": "code",
   "execution_count": 11,
   "id": "84be11e6-0838-4fe2-aeea-1074faf10dc0",
   "metadata": {},
   "outputs": [],
   "source": [
    "if not os.path.exists(\"txt\"):\n",
    "    # if the demo_folder directory is not present \n",
    "    # then create it.\n",
    "    os.makedirs(\"txt\")\n",
    "    \n",
    "if not os.path.exists(\"upload_files\"):\n",
    "    os.makedirs(\"upload_files\")\n",
    "    \n",
    "if not os.path.exists(\"data\"):\n",
    "    os.makedirs(\"data\")\n"
   ]
  },
  {
   "cell_type": "code",
   "execution_count": 12,
   "id": "3b940907-9df6-4caf-b18b-65e6cd9e67a2",
   "metadata": {},
   "outputs": [],
   "source": [
    "!conda list > txt/requirements_file_conda_boto3.txt\n",
    "!pip list > txt/requirements_file_pip_boto3.txt"
   ]
  },
  {
   "cell_type": "markdown",
   "id": "6f0b93d3-f5b0-447c-a433-2b8922dd8b52",
   "metadata": {},
   "source": [
    "# Setting up AWS resources\n",
    "\n",
    "## Import AWS keys\n"
   ]
  },
  {
   "cell_type": "code",
   "execution_count": 13,
   "id": "80e8d767-837c-4fee-ae38-2cae6d423882",
   "metadata": {},
   "outputs": [],
   "source": [
    " %run S3_helpers_pckg/settings.py"
   ]
  },
  {
   "cell_type": "markdown",
   "id": "f555353f-d00e-4c8f-bac6-0aaf0e59dedb",
   "metadata": {},
   "source": [
    "# Setting up a tornado warning system with AWS Simple Notification Service (SNS)\n",
    "<p>\n",
    "SNS is a fully managed Pub/Sub service for A2A and A2P messaging.<br>\n",
    "<a href=\"https://aws.amazon.com/sns/\" target=\"_bank\">AWS</a>\n",
    "</p>\n",
    "\n",
    "    \n",
    "\n",
    "\n"
   ]
  },
  {
   "cell_type": "markdown",
   "id": "46f19cfd-00e1-4268-9e48-a31eb159fe55",
   "metadata": {},
   "source": [
    "## Preparations: \n",
    "### Creating a client\n",
    "\n",
    "<p>\n",
    "\"Clients provide a low-level interface to AWS whose methods map close to 1:1 with service APIs. All service operations are supported by clients. Clients are generated from a JSON service definition file.\" (Boto3 doc)\n",
    "</p>\n",
    "\n",
    "<p>\n",
    "The name of the service and the keys are required.<br>\n",
    "The service name here is 'sns'.<br>\n",
    "</p>"
   ]
  },
  {
   "cell_type": "code",
   "execution_count": 15,
   "id": "439f9760-d5d7-404f-9306-9f7450ebaa43",
   "metadata": {},
   "outputs": [],
   "source": [
    "s3_sns_client = boto3.client('sns', region_name='us-east-1',\n",
    "                  aws_access_key_id=Access_Key_ID,\n",
    "                  aws_secret_access_key=Secret_Access_Key)"
   ]
  },
  {
   "cell_type": "code",
   "execution_count": 16,
   "id": "85f6d315-9d54-4aa5-a390-7d432a7c54e3",
   "metadata": {},
   "outputs": [
    {
     "data": {
      "text/plain": [
       "<botocore.client.SNS at 0x1d2217e9450>"
      ]
     },
     "execution_count": 16,
     "metadata": {},
     "output_type": "execute_result"
    }
   ],
   "source": [
    "s3_sns_client"
   ]
  },
  {
   "cell_type": "markdown",
   "id": "ce1b200f-30c9-4d1a-b04d-0fb3ee6c447a",
   "metadata": {},
   "source": [
    "#### Create topics\n",
    "\n",
    "<p>\n",
    "\"An Amazon SNS topic is a logical access point that acts as a communication channel.<br>\n",
    "A topic lets you group multiple endpoints (such as AWS Lambda, Amazon SQS, HTTP/S, or an email address).\"\n",
    "</p>"
   ]
  },
  {
   "cell_type": "code",
   "execution_count": 17,
   "id": "ca280085-6cd4-4715-a54a-3ab206d6749d",
   "metadata": {},
   "outputs": [
    {
     "name": "stdout",
     "output_type": "stream",
     "text": [
      "arn:aws:sns:us-east-1:047675893846:tornado_notification_service_system\n"
     ]
    }
   ],
   "source": [
    "tornado_reponse = \\\n",
    "s3_sns_client.create_topic(Name='tornado_notification_service_system')\n",
    "\n",
    "\n",
    "# tornado_response['TopicArn']\n",
    "tornado_system_arn = tornado_reponse['TopicArn']\n",
    "print(tornado_system_arn)"
   ]
  },
  {
   "cell_type": "markdown",
   "id": "99c97fbc-1ecd-4672-a061-6679b46dde45",
   "metadata": {},
   "source": [
    "#### List the active topics\n",
    "\n",
    "<p>\n",
    "Only the names.\n",
    "</p>"
   ]
  },
  {
   "cell_type": "code",
   "execution_count": 18,
   "id": "7bf3e36a-a021-4986-ba5c-4b5f9e4b77c2",
   "metadata": {},
   "outputs": [
    {
     "name": "stdout",
     "output_type": "stream",
     "text": [
      "Default_CloudWatch_Alarms_Topic\n",
      "alarm_greater_than_one_dollar\n",
      "tornado_notification_service\n",
      "tornado_notification_service_system\n"
     ]
    }
   ],
   "source": [
    "topics_len_1 = len(s3_sns_client.list_topics()['Topics'])\n",
    "\n",
    "for i in range(topics_len_1):\n",
    "    print(s3_sns_client.list_topics()['Topics'][i]['TopicArn'].split(':')[-1])"
   ]
  },
  {
   "cell_type": "markdown",
   "id": "d78e953e-e06c-4668-9dc0-d518a23ba276",
   "metadata": {},
   "source": [
    "### Building the tornado information table"
   ]
  },
  {
   "cell_type": "code",
   "execution_count": 19,
   "id": "89e6db7d-2e44-4f3d-83fd-bab3ccd5ce1a",
   "metadata": {},
   "outputs": [
    {
     "data": {
      "text/html": [
       "<div>\n",
       "<style scoped>\n",
       "    .dataframe tbody tr th:only-of-type {\n",
       "        vertical-align: middle;\n",
       "    }\n",
       "\n",
       "    .dataframe tbody tr th {\n",
       "        vertical-align: top;\n",
       "    }\n",
       "\n",
       "    .dataframe thead th {\n",
       "        text-align: right;\n",
       "    }\n",
       "</style>\n",
       "<table border=\"1\" class=\"dataframe\">\n",
       "  <thead>\n",
       "    <tr style=\"text-align: right;\">\n",
       "      <th></th>\n",
       "      <th>Fujita</th>\n",
       "      <th>Category</th>\n",
       "      <th>Alarm</th>\n",
       "      <th>Speed (km/h)</th>\n",
       "      <th>Message</th>\n",
       "    </tr>\n",
       "  </thead>\n",
       "  <tbody>\n",
       "    <tr>\n",
       "      <th>0</th>\n",
       "      <td>F0</td>\n",
       "      <td>weak</td>\n",
       "      <td>Low</td>\n",
       "      <td>50</td>\n",
       "      <td>Danger is low! However, be careful!</td>\n",
       "    </tr>\n",
       "    <tr>\n",
       "      <th>1</th>\n",
       "      <td>F1</td>\n",
       "      <td>weak</td>\n",
       "      <td>Guarded</td>\n",
       "      <td>100</td>\n",
       "      <td>Be prepared. Look for falling trees!</td>\n",
       "    </tr>\n",
       "    <tr>\n",
       "      <th>2</th>\n",
       "      <td>F2</td>\n",
       "      <td>strong</td>\n",
       "      <td>Elevated</td>\n",
       "      <td>200</td>\n",
       "      <td>Increasing threat. Take security measures.</td>\n",
       "    </tr>\n",
       "    <tr>\n",
       "      <th>3</th>\n",
       "      <td>F3</td>\n",
       "      <td>strong</td>\n",
       "      <td>High</td>\n",
       "      <td>300</td>\n",
       "      <td>Alarm. The risk to life is very high.</td>\n",
       "    </tr>\n",
       "    <tr>\n",
       "      <th>4</th>\n",
       "      <td>F4</td>\n",
       "      <td>violent</td>\n",
       "      <td>Severe</td>\n",
       "      <td>400</td>\n",
       "      <td>Please, leave the area and seek shelter.</td>\n",
       "    </tr>\n",
       "    <tr>\n",
       "      <th>5</th>\n",
       "      <td>F5</td>\n",
       "      <td>violent</td>\n",
       "      <td>Intense</td>\n",
       "      <td>500</td>\n",
       "      <td>Warning: natural disaster alarm!</td>\n",
       "    </tr>\n",
       "  </tbody>\n",
       "</table>\n",
       "</div>"
      ],
      "text/plain": [
       "  Fujita Category     Alarm  Speed (km/h)  \\\n",
       "0     F0     weak       Low            50   \n",
       "1     F1     weak   Guarded           100   \n",
       "2     F2   strong  Elevated           200   \n",
       "3     F3   strong      High           300   \n",
       "4     F4  violent    Severe           400   \n",
       "5     F5  violent   Intense           500   \n",
       "\n",
       "                                      Message  \n",
       "0         Danger is low! However, be careful!  \n",
       "1        Be prepared. Look for falling trees!  \n",
       "2  Increasing threat. Take security measures.  \n",
       "3       Alarm. The risk to life is very high.  \n",
       "4    Please, leave the area and seek shelter.  \n",
       "5            Warning: natural disaster alarm!  "
      ]
     },
     "execution_count": 19,
     "metadata": {},
     "output_type": "execute_result"
    }
   ],
   "source": [
    "speed = [50, 100, 200, 300, 400, 500] \n",
    "\n",
    "alarm = ['Low','Guarded', 'Elevated', 'High', 'Severe', 'Intense']\n",
    "\n",
    "message = ['Danger is low! However, be careful!',\n",
    "           'Be prepared. Look for falling trees!',\n",
    "           'Increasing threat. Take security measures.',\n",
    "           'Alarm. The risk to life is very high.',\n",
    "           'Please, leave the area and seek shelter.',\n",
    "           'Warning: natural disaster alarm!'\n",
    "          ]\n",
    "\n",
    "fujita = ['F0', 'F1', 'F2', 'F3', 'F4', 'F5']\n",
    "\n",
    "category = ['weak', 'weak', 'strong', 'strong', 'violent', 'violent']\n",
    "\n",
    "\n",
    "tornado_alarms_df = \\\n",
    "pd.DataFrame(zip(fujita, category, alarm, speed, message), \n",
    "             columns=['Fujita', 'Category', 'Alarm', 'Speed (km/h)', 'Message'],\n",
    "             index=list(np.arange(0,6)))\n",
    "\n",
    "tornado_alarms_df"
   ]
  },
  {
   "cell_type": "code",
   "execution_count": 20,
   "id": "8142bb09-895b-4b6a-a7a8-fd77578aa3c0",
   "metadata": {},
   "outputs": [
    {
     "data": {
      "text/plain": [
       "'Guarded'"
      ]
     },
     "execution_count": 20,
     "metadata": {},
     "output_type": "execute_result"
    }
   ],
   "source": [
    "tornado_alarms_df.loc[1, 'Message']\n",
    "tornado_alarms_df.loc[1, 'Alarm']"
   ]
  },
  {
   "cell_type": "markdown",
   "id": "217bb7d4-f016-408b-b0e4-44ded4b49438",
   "metadata": {},
   "source": [
    "### Building the contacts emailing list"
   ]
  },
  {
   "cell_type": "code",
   "execution_count": 21,
   "id": "ce883583-64b9-4bde-a001-261dbfbb38be",
   "metadata": {},
   "outputs": [
    {
     "data": {
      "text/html": [
       "<div>\n",
       "<style scoped>\n",
       "    .dataframe tbody tr th:only-of-type {\n",
       "        vertical-align: middle;\n",
       "    }\n",
       "\n",
       "    .dataframe tbody tr th {\n",
       "        vertical-align: top;\n",
       "    }\n",
       "\n",
       "    .dataframe thead th {\n",
       "        text-align: right;\n",
       "    }\n",
       "</style>\n",
       "<table border=\"1\" class=\"dataframe\">\n",
       "  <thead>\n",
       "    <tr style=\"text-align: right;\">\n",
       "      <th></th>\n",
       "      <th>First name</th>\n",
       "      <th>Last name</th>\n",
       "      <th>Planet</th>\n",
       "      <th>Emails</th>\n",
       "    </tr>\n",
       "  </thead>\n",
       "  <tbody>\n",
       "    <tr>\n",
       "      <th>0</th>\n",
       "      <td>Uperto</td>\n",
       "      <td>Gotermer</td>\n",
       "      <td>Pluto</td>\n",
       "      <td>Gotermer3534@yahoo.com</td>\n",
       "    </tr>\n",
       "    <tr>\n",
       "      <th>1</th>\n",
       "      <td>Tessto</td>\n",
       "      <td>Iomer</td>\n",
       "      <td>Saturn</td>\n",
       "      <td>iomer3423@mailfence.com</td>\n",
       "    </tr>\n",
       "    <tr>\n",
       "      <th>2</th>\n",
       "      <td>Aeedor</td>\n",
       "      <td>Ermedir</td>\n",
       "      <td>Venus</td>\n",
       "      <td>ermerdir.itoplasto@aol.com</td>\n",
       "    </tr>\n",
       "  </tbody>\n",
       "</table>\n",
       "</div>"
      ],
      "text/plain": [
       "  First name Last name  Planet                      Emails\n",
       "0     Uperto  Gotermer   Pluto      Gotermer3534@yahoo.com\n",
       "1     Tessto     Iomer  Saturn     iomer3423@mailfence.com\n",
       "2     Aeedor   Ermedir   Venus  ermerdir.itoplasto@aol.com"
      ]
     },
     "execution_count": 21,
     "metadata": {},
     "output_type": "execute_result"
    }
   ],
   "source": [
    "import pandas as pd\n",
    "\n",
    "emails = ['Gotermer3534@yahoo.com', 'iomer3423@mailfence.com', 'ermerdir.itoplasto@aol.com']\n",
    "\n",
    "firstname = ['Uperto', 'Tessto', 'Aeedor']\n",
    "lastname =['Gotermer', 'Iomer', 'Ermedir']\n",
    "planet = ['Pluto', 'Saturn', 'Venus']\n",
    "           \n",
    "subscribers_df = \\\n",
    "pd.DataFrame(zip(firstname, lastname, planet, emails), \n",
    "             columns=['First name', 'Last name', 'Planet', 'Emails'])\n",
    "\n",
    "\n",
    "subscribers_df"
   ]
  },
  {
   "cell_type": "markdown",
   "id": "84ddb4f8-c8c4-4003-ade3-8dba3f5c748b",
   "metadata": {},
   "source": [
    "### Subscribing contacts to the topic"
   ]
  },
  {
   "cell_type": "code",
   "execution_count": 22,
   "id": "92da40f6-a145-4806-a3cd-205597c5e2cd",
   "metadata": {},
   "outputs": [],
   "source": [
    "for row in subscribers_df.iterrows():\n",
    "    email_endpoint = row[1]['Emails']\n",
    "    # print(email_endpoint)tornado_system_arn"
   ]
  },
  {
   "cell_type": "code",
   "execution_count": 23,
   "id": "5e1b61b3-1119-42a0-a4eb-d564eb428c67",
   "metadata": {},
   "outputs": [
    {
     "name": "stdout",
     "output_type": "stream",
     "text": [
      "Gotermer3534@yahoo.com\n",
      "iomer3423@mailfence.com\n",
      "ermerdir.itoplasto@aol.com\n"
     ]
    }
   ],
   "source": [
    "for row in subscribers_df.iterrows():\n",
    "\n",
    "\n",
    "                responses_collected = []\n",
    "\n",
    "                email_endpoint = row[1]['Emails']\n",
    "            \n",
    "                print(email_endpoint)"
   ]
  },
  {
   "cell_type": "code",
   "execution_count": 24,
   "id": "e4de33cc-22db-48a6-a1f6-479dad85aa64",
   "metadata": {},
   "outputs": [
    {
     "name": "stdout",
     "output_type": "stream",
     "text": [
      "Gotermer3534@yahoo.com\n",
      "iomer3423@mailfence.com\n",
      "ermerdir.itoplasto@aol.com\n"
     ]
    }
   ],
   "source": [
    "\n",
    "def subscribe_contacts_to_topic_2(df, emails):\n",
    "\n",
    "        for row in subscribers_df.iterrows():\n",
    "\n",
    "\n",
    "                responses_collected = []\n",
    "\n",
    "                email_endpoint = row[1][emails]\n",
    "                print(email_endpoint)\n",
    "\n",
    "                \n",
    "subscribe_contacts_to_topic_2(df=subscribers_df, emails='Emails')"
   ]
  },
  {
   "cell_type": "code",
   "execution_count": 25,
   "id": "9f8a6f9b-8c28-4cff-b1a7-3fc681acd1a2",
   "metadata": {},
   "outputs": [],
   "source": [
    "\n",
    "def subscribe_contacts_to_topic(client, df, emails):\n",
    "\n",
    "        for row in df.iterrows():\n",
    "                    # print(row)\n",
    "\n",
    "                    responses_collected = []\n",
    "\n",
    "                    email_endpoint = row[1][emails]\n",
    "                    # print(email_endpoint)\n",
    "\n",
    "                    subscription_response = \\\n",
    "                    eval(client).subscribe(\n",
    "                    TopicArn = tornado_system_arn,\n",
    "                    Protocol = 'email',\n",
    "                    Endpoint = email_endpoint )\n",
    "\n",
    "                    responses_collected.append(subscription_response)\n",
    "\n",
    "        return responses_collected"
   ]
  },
  {
   "cell_type": "code",
   "execution_count": 26,
   "id": "0d24f487-90d4-40b0-bf2a-3e63fc9094e7",
   "metadata": {},
   "outputs": [],
   "source": [
    "collected_responses = \\\n",
    "subscribe_contacts_to_topic(client=\"s3_sns_client\", df=subscribers_df, emails='Emails')\n"
   ]
  },
  {
   "cell_type": "code",
   "execution_count": 27,
   "id": "7838226f-29dc-4e24-92f6-1f8bea7246a1",
   "metadata": {},
   "outputs": [
    {
     "data": {
      "text/plain": [
       "[{'SubscriptionArn': 'pending confirmation',\n",
       "  'ResponseMetadata': {'RequestId': '00ac779f-7a02-591e-9734-2c63789d1f7f',\n",
       "   'HTTPStatusCode': 200,\n",
       "   'HTTPHeaders': {'x-amzn-requestid': '00ac779f-7a02-591e-9734-2c63789d1f7f',\n",
       "    'content-type': 'text/xml',\n",
       "    'content-length': '298',\n",
       "    'date': 'Sat, 26 Nov 2022 12:02:38 GMT'},\n",
       "   'RetryAttempts': 0}}]"
      ]
     },
     "execution_count": 27,
     "metadata": {},
     "output_type": "execute_result"
    }
   ],
   "source": [
    "collected_responses "
   ]
  },
  {
   "cell_type": "markdown",
   "id": "d1c174f9-d3df-4fe1-a802-76f5b16c9fb9",
   "metadata": {},
   "source": [
    "### Publishing the alarms\n",
    "<p>\n",
    "applying a user-defined functions.\n",
    "</p>\n",
    "\n",
    "<p>\n",
    "Input into the alarm function is the speed of the tornado.<br>\n",
    "It is here generated with a random function.<br>\n",
    "In future a real time data source is necessary.\n",
    "</p>"
   ]
  },
  {
   "cell_type": "code",
   "execution_count": 28,
   "id": "aa10c2dd-b73b-47ec-b63f-3c9424df0d79",
   "metadata": {},
   "outputs": [
    {
     "name": "stdout",
     "output_type": "stream",
     "text": [
      "292.3\n"
     ]
    }
   ],
   "source": [
    "# import random\n",
    "# Input into the alarm function is\n",
    "speed = round(random.uniform(0,600),2)\n",
    "print(speed)\n"
   ]
  },
  {
   "cell_type": "code",
   "execution_count": 38,
   "id": "9e27bab6-d712-4301-abd5-542f364addc6",
   "metadata": {},
   "outputs": [],
   "source": [
    "def alarm(speed):\n",
    "    \n",
    "        if (speed> 0) and (speed<= 50):\n",
    "            print(1)\n",
    "            alarm_level_0 = tornado_alarms_df.loc[0, 'Alarm']\n",
    "            response_0 = \\\n",
    "            s3_sns_client.publish(TopicArn = tornado_system_arn,\n",
    "                                  Message = tornado_alarms_df.loc[0, 'Message'],\n",
    "                                  Subject = \"Tornado alarm: speed {} km/h. Alarm level: {}\".format(speed, alarm_level_0))\n",
    "            \n",
    "            return ('Response:', alarm_level_0, 'Full response:', response_0)\n",
    "            \n",
    "        elif (speed>= 51) and (speed<= 100):\n",
    "                alarm_level_1 = tornado_alarms_df.loc[1, 'Alarm']\n",
    "                response_1 = \\\n",
    "                s3_sns_client.publish(TopicArn = tornado_system_arn,\n",
    "                                      Message = tornado_alarms_df.loc[1, 'Message'],\n",
    "                                      Subject = \"Tornado alarm: speed {} km/h. Alarm level: {}\".format(speed, alarm_level_1))\n",
    "                \n",
    "                return ('Response:', alarm_level_1, 'Full response:', response_1)\n",
    "                \n",
    "        elif (speed>= 101) and (speed<= 200):\n",
    "            alarm_level_2 = tornado_alarms_df.loc[2, 'Alarm']\n",
    "            response_2 = \\\n",
    "            s3_sns_client.publish(TopicArn = tornado_system_arn,\n",
    "                                  Message = tornado_alarms_df.loc[2, 'Message'],\n",
    "                                  Subject = \"Tornado alarm: speed {} km/h. Alarm level: {}\".format(speed, alarm_level_2))\n",
    "            \n",
    "            return ('Response:', alarm_level_2, 'Full response:', response_2)\n",
    "        \n",
    "        elif (speed>= 201) and (speed<= 300):\n",
    "            alarm_level_3 = tornado_alarms_df.loc[3, 'Alarm']\n",
    "            response_3 = \\\n",
    "            s3_sns_client.publish(TopicArn = tornado_system_arn,\n",
    "                                  Message = tornado_alarms_df.loc[3, 'Message'],\n",
    "                                  Subject = \"Tornado alarm: speed {} km/h. Alarm level: {}\".format(speed, alarm_level_3))\n",
    "            \n",
    "            return ('Response:', alarm_level_3, 'Full response:', response_3)\n",
    "    \n",
    "        elif (speed>= 301) and (speed<= 400):\n",
    "            alarm_level_4 = tornado_alarms_df.loc[4, 'Alarm']\n",
    "            response_4 = \\\n",
    "            s3_sns_client.publish(TopicArn = tornado_system_arn,\n",
    "                                  Message = tornado_alarms_df.loc[4, 'Message'],\n",
    "                                  Subject = \"Tornado alarm: speed {} km/h. Alarm level: {}\".format(speed, alarm_level_4))\n",
    "            \n",
    "            return ('Response:', alarm_level_4, 'Full response:', response_4)\n",
    "    \n",
    "        elif speed> 401:\n",
    "            alarm_level_5 = tornado_alarms_df.loc[5, 'Alarm']\n",
    "            response_5 = \\\n",
    "            s3_sns_client.publish(TopicArn = tornado_system_arn,\n",
    "                                  Message = tornado_alarms_df.loc[5, 'Message'],\n",
    "                                  Subject = \"Tornado alarm: speed {} km/h. Alarm level: {}\".format(speed, alarm_level_5))\n",
    "            return ({'Response:': alarm_level_5}, {'Full response:', response_5})\n"
   ]
  },
  {
   "cell_type": "code",
   "execution_count": 39,
   "id": "690cc1b8-6329-4f08-b829-3452080d6f65",
   "metadata": {},
   "outputs": [],
   "source": [
    "alarm_response_1 = alarm(speed=speed)"
   ]
  },
  {
   "cell_type": "code",
   "execution_count": 40,
   "id": "248e2c2b-02e1-469f-a677-fa15621f8e96",
   "metadata": {},
   "outputs": [
    {
     "name": "stdout",
     "output_type": "stream",
     "text": [
      "('Response:', 'High', 'Full response:', {'MessageId': 'c41ecf28-7a31-5bf9-a554-94d479c0005a', 'ResponseMetadata': {'RequestId': '665bde06-9771-505f-bc16-85fa94809bfc', 'HTTPStatusCode': 200, 'HTTPHeaders': {'x-amzn-requestid': '665bde06-9771-505f-bc16-85fa94809bfc', 'content-type': 'text/xml', 'content-length': '294', 'date': 'Sat, 26 Nov 2022 12:08:16 GMT'}, 'RetryAttempts': 0}})\n"
     ]
    }
   ],
   "source": [
    "print(alarm_response_1)"
   ]
  },
  {
   "cell_type": "code",
   "execution_count": null,
   "id": "f2da7ec4-ee89-4578-b0f1-87c9282c7e65",
   "metadata": {},
   "outputs": [],
   "source": []
  }
 ],
 "metadata": {
  "kernelspec": {
   "display_name": "AWS",
   "language": "python",
   "name": "aws"
  },
  "language_info": {
   "codemirror_mode": {
    "name": "ipython",
    "version": 3
   },
   "file_extension": ".py",
   "mimetype": "text/x-python",
   "name": "python",
   "nbconvert_exporter": "python",
   "pygments_lexer": "ipython3",
   "version": "3.10.4"
  }
 },
 "nbformat": 4,
 "nbformat_minor": 5
}
